{
  "nbformat": 4,
  "nbformat_minor": 0,
  "metadata": {
    "colab": {
      "provenance": [],
      "authorship_tag": "ABX9TyP9X5ktA19GaUERfcBw8jfY",
      "include_colab_link": true
    },
    "kernelspec": {
      "name": "python3",
      "display_name": "Python 3"
    },
    "language_info": {
      "name": "python"
    }
  },
  "cells": [
    {
      "cell_type": "markdown",
      "metadata": {
        "id": "view-in-github",
        "colab_type": "text"
      },
      "source": [
        "<a href=\"https://colab.research.google.com/github/yendruamarendra/Delta/blob/main/delta.ipynb\" target=\"_parent\"><img src=\"https://colab.research.google.com/assets/colab-badge.svg\" alt=\"Open In Colab\"/></a>"
      ]
    },
    {
      "cell_type": "code",
      "source": [
        "!pip install pyspark py4j"
      ],
      "metadata": {
        "colab": {
          "base_uri": "https://localhost:8080/"
        },
        "id": "fWzBTfpoZVEO",
        "outputId": "0b9d583e-a1de-42d7-b86f-3be783e0fa0f"
      },
      "execution_count": 3,
      "outputs": [
        {
          "output_type": "stream",
          "name": "stdout",
          "text": [
            "Looking in indexes: https://pypi.org/simple, https://us-python.pkg.dev/colab-wheels/public/simple/\n",
            "Collecting pyspark\n",
            "  Downloading pyspark-3.3.1.tar.gz (281.4 MB)\n",
            "\u001b[K     |████████████████████████████████| 281.4 MB 46 kB/s \n",
            "\u001b[?25hCollecting py4j\n",
            "  Downloading py4j-0.10.9.7-py2.py3-none-any.whl (200 kB)\n",
            "\u001b[K     |████████████████████████████████| 200 kB 51.5 MB/s \n",
            "\u001b[?25h  Downloading py4j-0.10.9.5-py2.py3-none-any.whl (199 kB)\n",
            "\u001b[K     |████████████████████████████████| 199 kB 15.2 MB/s \n",
            "\u001b[?25hBuilding wheels for collected packages: pyspark\n",
            "  Building wheel for pyspark (setup.py) ... \u001b[?25l\u001b[?25hdone\n",
            "  Created wheel for pyspark: filename=pyspark-3.3.1-py2.py3-none-any.whl size=281845512 sha256=6f6419e3c479d5d8e34ec15a64593f785399f49fea8bff08931dc05e985cb792\n",
            "  Stored in directory: /root/.cache/pip/wheels/43/dc/11/ec201cd671da62fa9c5cc77078235e40722170ceba231d7598\n",
            "Successfully built pyspark\n",
            "Installing collected packages: py4j, pyspark\n",
            "Successfully installed py4j-0.10.9.5 pyspark-3.3.1\n"
          ]
        }
      ]
    },
    {
      "cell_type": "code",
      "source": [
        "from pyspark.sql import SparkSession\n",
        "from pyspark.shell import spark\n",
        "import pyspark.sql.functions as f\n",
        "from pyspark.sql.window import Window\n",
        "from pyspark.sql.functions import row_number\n",
        "from datetime import datetime"
      ],
      "metadata": {
        "colab": {
          "base_uri": "https://localhost:8080/"
        },
        "id": "dIWPHj83ZwBJ",
        "outputId": "55941143-e270-4efb-d606-35cb7409e543"
      },
      "execution_count": 4,
      "outputs": [
        {
          "output_type": "stream",
          "name": "stdout",
          "text": [
            "Welcome to\n",
            "      ____              __\n",
            "     / __/__  ___ _____/ /__\n",
            "    _\\ \\/ _ \\/ _ `/ __/  '_/\n",
            "   /__ / .__/\\_,_/_/ /_/\\_\\   version 3.3.1\n",
            "      /_/\n",
            "\n",
            "Using Python version 3.8.16 (default, Dec  7 2022 01:12:13)\n",
            "Spark context Web UI available at http://3a1c610c4b7a:4040\n",
            "Spark context available as 'sc' (master = local[*], app id = local-1671553063599).\n",
            "SparkSession available as 'spark'.\n"
          ]
        }
      ]
    },
    {
      "cell_type": "code",
      "source": [
        "spark =  SparkSession.builder.appName(\"Delta_flights\").getOrCreate()"
      ],
      "metadata": {
        "id": "Na635lhraaYJ"
      },
      "execution_count": 5,
      "outputs": []
    },
    {
      "cell_type": "code",
      "source": [
        "df = spark.read.csv(\"/content/Delta/Dummy_Flight_Leg_Data.csv\",header = True, inferSchema=True)"
      ],
      "metadata": {
        "id": "qNlYqteNPvoy"
      },
      "execution_count": 7,
      "outputs": []
    },
    {
      "cell_type": "code",
      "source": [
        "df.show()"
      ],
      "metadata": {
        "colab": {
          "base_uri": "https://localhost:8080/"
        },
        "id": "HEF0ATdhQIpn",
        "outputId": "5942cb91-107c-46d5-b897-42e9e76aba97"
      },
      "execution_count": 89,
      "outputs": [
        {
          "output_type": "stream",
          "name": "stdout",
          "text": [
            "+------------+---------+---------+---------+---------+------------+--------+----------------+\n",
            "|Carrier Code|flight_dt|flightnum|orig_arpt|dest_arpt|flightstatus|lastupdt|       flightkey|\n",
            "+------------+---------+---------+---------+---------+------------+--------+----------------+\n",
            "|          DL| 01/01/19|       15|      ATL|      TPA|    Boarding|   19:48| DL4346615ATLTPA|\n",
            "|          DL| 01/01/19|       31|      ATL|      DFW|    Boarding|   19:17| DL4346631ATLDFW|\n",
            "|          DL| 01/01/19|       91|      ATL|      RSW|    Boarding|   17:20| DL4346691ATLRSW|\n",
            "|          DL| 01/01/19|      131|      ATL|      GSP|    Boarding|   17:48|DL43466131ATLGSP|\n",
            "|          DL| 01/01/19|      186|      ATL|      MCO|    Boarding|   15:54|DL43466186ATLMCO|\n",
            "|          DL| 01/01/19|      214|      ATL|      JFK|    Boarding|   18:22|DL43466214ATLJFK|\n",
            "|          DL| 01/01/19|      296|      ATL|      RDU|    Boarding|   18:00|DL43466296ATLRDU|\n",
            "|          DL| 01/01/19|      301|      ATL|      MCI|    Boarding|   16:17|DL43466301ATLMCI|\n",
            "|          DL| 01/01/19|      303|      ATL|      ORD|    Boarding|   10:13|DL43466303ATLORD|\n",
            "|          DL| 01/01/19|      311|      ATL|      PIT|    Boarding|   16:01|DL43466311ATLPIT|\n",
            "|          DL| 01/01/19|      315|      ATL|      BNA|    Boarding|   13:05|DL43466315ATLBNA|\n",
            "|          DL| 01/01/19|      323|      ATL|      SJU|    Boarding|    8:17|DL43466323ATLSJU|\n",
            "|          DL| 01/01/19|      330|      ATL|      FLL|    Boarding|   17:18|DL43466330ATLFLL|\n",
            "|          DL| 01/01/19|      331|      ATL|      IAH|    Boarding|   11:06|DL43466331ATLIAH|\n",
            "|          DL| 01/01/19|      333|      ATL|      SRQ|    Boarding|   10:21|DL43466333ATLSRQ|\n",
            "|          DL| 01/01/19|      345|      ATL|      DAB|    Boarding|    9:35|DL43466345ATLDAB|\n",
            "|          DL| 01/01/19|      346|      ATL|      DAB|    Boarding|   12:17|DL43466346ATLDAB|\n",
            "|          DL| 01/01/19|      352|      ATL|      SRQ|    Boarding|   13:13|DL43466352ATLSRQ|\n",
            "|          DL| 01/01/19|      354|      ATL|      PBI|    Boarding|   11:21|DL43466354ATLPBI|\n",
            "|          DL| 01/01/19|      362|      ATL|      BWI|    Boarding|    9:44|DL43466362ATLBWI|\n",
            "+------------+---------+---------+---------+---------+------------+--------+----------------+\n",
            "only showing top 20 rows\n",
            "\n"
          ]
        }
      ]
    },
    {
      "cell_type": "code",
      "source": [
        "df = df.filter(f.col(\"flightkey\").isNotNull())"
      ],
      "metadata": {
        "id": "gB259Z_ifaVF"
      },
      "execution_count": 8,
      "outputs": []
    },
    {
      "cell_type": "code",
      "source": [
        "windowSpec = Window.partitionBy(\"flightkey\").orderBy(f.col(\"flight_dt\").desc(),f.col(\"lastupdt\").desc())"
      ],
      "metadata": {
        "id": "T4bN0WdQQgka"
      },
      "execution_count": 9,
      "outputs": []
    },
    {
      "cell_type": "code",
      "source": [
        "df_res = df.withColumn(\"row_number\",row_number().over(windowSpec)).filter(\"row_number=1\").drop(\"row_number\")"
      ],
      "metadata": {
        "id": "zRIu9dl7dYCr"
      },
      "execution_count": 10,
      "outputs": []
    },
    {
      "cell_type": "code",
      "source": [
        "df_res.show()"
      ],
      "metadata": {
        "colab": {
          "base_uri": "https://localhost:8080/"
        },
        "id": "D_P-LiaRdvFh",
        "outputId": "50523f6a-735f-49d3-de50-07f297a7a7c3"
      },
      "execution_count": 11,
      "outputs": [
        {
          "output_type": "stream",
          "name": "stdout",
          "text": [
            "+------------+---------+---------+---------+---------+------------+--------+-----------------+\n",
            "|Carrier Code|flight_dt|flightnum|orig_arpt|dest_arpt|flightstatus|lastupdt|        flightkey|\n",
            "+------------+---------+---------+---------+---------+------------+--------+-----------------+\n",
            "|          DL| 01/01/19|     1038|      ATL|      ROC|    Boarding|    9:28|DL434661038ATLROC|\n",
            "|          DL| 01/01/19|     1048|      ATL|      RSW|    Boarding|    7:34|DL434661048ATLRSW|\n",
            "|          DL| 01/01/19|     1050|      ATL|      DEN|    Boarding|    9:26|DL434661050ATLDEN|\n",
            "|          DL| 01/01/19|     1052|      ATL|      MKE|    Boarding|   14:05|DL434661052ATLMKE|\n",
            "|          DL| 01/01/19|     1053|      ATL|      PBI|    Boarding|   16:04|DL434661053ATLPBI|\n",
            "|          DL| 01/01/19|     1058|      ATL|      MCO|    Boarding|   11:49|DL434661058ATLMCO|\n",
            "|          DL| 01/01/19|     1063|      ATL|      DTW|    Boarding|   11:01|DL434661063ATLDTW|\n",
            "|          DL| 01/01/19|     1065|      ATL|      GSP|    Boarding|   10:22|DL434661065ATLGSP|\n",
            "|          DL| 01/01/19|     1069|      ATL|      CMH|    Boarding|    8:16|DL434661069ATLCMH|\n",
            "|          DL| 01/01/19|     1072|      ATL|      PIT|    Boarding|   22:17|DL434661072ATLPIT|\n",
            "|          DL| 01/01/19|     1075|      ATL|      DTW|    Boarding|   12:50|DL434661075ATLDTW|\n",
            "|          DL| 01/01/19|     1076|      ATL|      SFO|    Boarding|   17:50|DL434661076ATLSFO|\n",
            "|          DL| 01/01/19|     1088|      ATL|      OKC|    Boarding|    8:20|DL434661088ATLOKC|\n",
            "|          DL| 01/01/19|     1090|      ATL|      MCO|    Boarding|    9:52|DL434661090ATLMCO|\n",
            "|          DL| 01/01/19|     1091|      ATL|      CVG|    Boarding|   18:27|DL434661091ATLCVG|\n",
            "|          DL| 01/01/19|     1094|      ATL|      PIT|    Boarding|    8:51|DL434661094ATLPIT|\n",
            "|          DL| 01/01/19|     1095|      ATL|      CLT|    Boarding|   13:59|DL434661095ATLCLT|\n",
            "|          DL| 01/01/19|     1102|      ATL|      SAV|    Boarding|   19:41|DL434661102ATLSAV|\n",
            "|          DL| 01/01/19|     1107|      ATL|      SEA|    Boarding|   21:06|DL434661107ATLSEA|\n",
            "|          DL| 01/01/19|     1109|      ATL|      IAD|    Boarding|    7:22|DL434661109ATLIAD|\n",
            "+------------+---------+---------+---------+---------+------------+--------+-----------------+\n",
            "only showing top 20 rows\n",
            "\n"
          ]
        }
      ]
    }
  ]
}