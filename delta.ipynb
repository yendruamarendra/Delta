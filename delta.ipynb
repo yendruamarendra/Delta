{
  "nbformat": 4,
  "nbformat_minor": 0,
  "metadata": {
    "colab": {
      "provenance": [],
      "authorship_tag": "ABX9TyOaNzefGNXqrQeoaEebSso6",
      "include_colab_link": true
    },
    "kernelspec": {
      "name": "python3",
      "display_name": "Python 3"
    },
    "language_info": {
      "name": "python"
    }
  },
  "cells": [
    {
      "cell_type": "markdown",
      "metadata": {
        "id": "view-in-github",
        "colab_type": "text"
      },
      "source": [
        "<a href=\"https://colab.research.google.com/github/yendruamarendra/Delta/blob/main/delta.ipynb\" target=\"_parent\"><img src=\"https://colab.research.google.com/assets/colab-badge.svg\" alt=\"Open In Colab\"/></a>"
      ]
    },
    {
      "cell_type": "markdown",
      "source": [
        "# TASK 2"
      ],
      "metadata": {
        "id": "3ZOLaGnrbX0D"
      }
    },
    {
      "cell_type": "markdown",
      "source": [
        "# Install Pyspark\n"
      ],
      "metadata": {
        "id": "o9q3Z9QkXIZM"
      }
    },
    {
      "cell_type": "code",
      "source": [
        "!pip install pyspark py4j"
      ],
      "metadata": {
        "colab": {
          "base_uri": "https://localhost:8080/"
        },
        "id": "fWzBTfpoZVEO",
        "outputId": "fc40b220-04a9-4f73-ea35-9af2f32d019e"
      },
      "execution_count": 1,
      "outputs": [
        {
          "output_type": "stream",
          "name": "stdout",
          "text": [
            "Looking in indexes: https://pypi.org/simple, https://us-python.pkg.dev/colab-wheels/public/simple/\n",
            "Collecting pyspark\n",
            "  Downloading pyspark-3.3.1.tar.gz (281.4 MB)\n",
            "\u001b[K     |████████████████████████████████| 281.4 MB 45 kB/s \n",
            "\u001b[?25hCollecting py4j\n",
            "  Downloading py4j-0.10.9.7-py2.py3-none-any.whl (200 kB)\n",
            "\u001b[K     |████████████████████████████████| 200 kB 35.0 MB/s \n",
            "\u001b[?25h  Downloading py4j-0.10.9.5-py2.py3-none-any.whl (199 kB)\n",
            "\u001b[K     |████████████████████████████████| 199 kB 21.8 MB/s \n",
            "\u001b[?25hBuilding wheels for collected packages: pyspark\n",
            "  Building wheel for pyspark (setup.py) ... \u001b[?25l\u001b[?25hdone\n",
            "  Created wheel for pyspark: filename=pyspark-3.3.1-py2.py3-none-any.whl size=281845512 sha256=bf56c0049c9cb9a18977a73d1c008b5d426f044c07e001d94ec103a6527be2b5\n",
            "  Stored in directory: /root/.cache/pip/wheels/43/dc/11/ec201cd671da62fa9c5cc77078235e40722170ceba231d7598\n",
            "Successfully built pyspark\n",
            "Installing collected packages: py4j, pyspark\n",
            "Successfully installed py4j-0.10.9.5 pyspark-3.3.1\n"
          ]
        }
      ]
    },
    {
      "cell_type": "markdown",
      "source": [
        "Imports"
      ],
      "metadata": {
        "id": "oWm4CrudXP9h"
      }
    },
    {
      "cell_type": "code",
      "source": [
        "##from pyspark.sql import SparkSession\n",
        "from pyspark.shell import spark\n",
        "import pyspark.sql.functions as f\n",
        "from pyspark.sql.window import Window\n",
        "from pyspark.sql.functions import row_number\n",
        "from datetime import datetime"
      ],
      "metadata": {
        "id": "dIWPHj83ZwBJ"
      },
      "execution_count": 7,
      "outputs": []
    },
    {
      "cell_type": "code",
      "source": [
        "spark =  SparkSession.builder.appName(\"Delta_flights\").getOrCreate()"
      ],
      "metadata": {
        "id": "Na635lhraaYJ"
      },
      "execution_count": 8,
      "outputs": []
    },
    {
      "cell_type": "markdown",
      "source": [
        "# Read Flight leg Data as dataframe\n"
      ],
      "metadata": {
        "id": "lJ6Qkhv0Xck8"
      }
    },
    {
      "cell_type": "code",
      "source": [
        "df = spark.read.csv(\"/content/Delta/Dummy_Flight_Leg_Data.csv\",header = True, inferSchema=True)"
      ],
      "metadata": {
        "id": "qNlYqteNPvoy"
      },
      "execution_count": 9,
      "outputs": []
    },
    {
      "cell_type": "code",
      "source": [
        "df.count()"
      ],
      "metadata": {
        "colab": {
          "base_uri": "https://localhost:8080/"
        },
        "id": "HEF0ATdhQIpn",
        "outputId": "cbf13315-4bf8-4e74-bc34-b6388efd5400"
      },
      "execution_count": 10,
      "outputs": [
        {
          "output_type": "execute_result",
          "data": {
            "text/plain": [
              "244080"
            ]
          },
          "metadata": {},
          "execution_count": 10
        }
      ]
    },
    {
      "cell_type": "markdown",
      "source": [
        "## Considering flighkey as primary filtering out records for null if there are any"
      ],
      "metadata": {
        "id": "OwYNGjE8XmmG"
      }
    },
    {
      "cell_type": "code",
      "source": [
        "df = df.filter(f.col(\"flightkey\").isNotNull())"
      ],
      "metadata": {
        "id": "gB259Z_ifaVF"
      },
      "execution_count": 11,
      "outputs": []
    },
    {
      "cell_type": "markdown",
      "source": [
        "## Using window function for partition and order by"
      ],
      "metadata": {
        "id": "rQk208BmYBGp"
      }
    },
    {
      "cell_type": "code",
      "source": [
        "windowSpec = Window.partitionBy(\"flightkey\").orderBy(f.col(\"flight_dt\").desc(),f.col(\"lastupdt\").desc())"
      ],
      "metadata": {
        "id": "T4bN0WdQQgka"
      },
      "execution_count": 12,
      "outputs": []
    },
    {
      "cell_type": "markdown",
      "source": [
        "## Creating Column row_number over windowSpec and selection first record to get recent status of flights"
      ],
      "metadata": {
        "id": "QxbRXl9IYQX4"
      }
    },
    {
      "cell_type": "code",
      "source": [
        "df_res = df.withColumn(\"row_number\",row_number().over(windowSpec)).filter(\"row_number=1\").drop(\"row_number\")"
      ],
      "metadata": {
        "id": "zRIu9dl7dYCr"
      },
      "execution_count": 13,
      "outputs": []
    },
    {
      "cell_type": "markdown",
      "source": [
        "## Displaying records for all the flights with most recent status"
      ],
      "metadata": {
        "id": "jQxpqPv1YV0C"
      }
    },
    {
      "cell_type": "code",
      "source": [
        "df_res.show()"
      ],
      "metadata": {
        "colab": {
          "base_uri": "https://localhost:8080/"
        },
        "id": "D_P-LiaRdvFh",
        "outputId": "d107e2e7-ac8d-466b-db33-86be7b7bfff7"
      },
      "execution_count": 19,
      "outputs": [
        {
          "output_type": "stream",
          "name": "stdout",
          "text": [
            "+------------+---------+---------+---------+---------+------------+--------+-----------------+\n",
            "|Carrier Code|flight_dt|flightnum|orig_arpt|dest_arpt|flightstatus|lastupdt|        flightkey|\n",
            "+------------+---------+---------+---------+---------+------------+--------+-----------------+\n",
            "|          DL| 01/01/19|     1038|      ATL|      ROC|    Boarding|    9:28|DL434661038ATLROC|\n",
            "|          DL| 01/01/19|     1052|      ATL|      MKE|    Boarding|   14:05|DL434661052ATLMKE|\n",
            "|          DL| 01/01/19|     1053|      ATL|      PBI|    Boarding|   16:04|DL434661053ATLPBI|\n",
            "|          DL| 01/01/19|     1063|      ATL|      DTW|    Boarding|   11:01|DL434661063ATLDTW|\n",
            "|          DL| 01/01/19|     1072|      ATL|      PIT|    Boarding|   22:17|DL434661072ATLPIT|\n",
            "|          DL| 01/01/19|     1075|      ATL|      DTW|    Boarding|   12:50|DL434661075ATLDTW|\n",
            "|          DL| 01/01/19|     1088|      ATL|      OKC|    Boarding|    8:20|DL434661088ATLOKC|\n",
            "|          DL| 01/01/19|     1090|      ATL|      MCO|    Boarding|    9:52|DL434661090ATLMCO|\n",
            "|          DL| 01/01/19|     1091|      ATL|      CVG|    Boarding|   18:27|DL434661091ATLCVG|\n",
            "|          DL| 01/01/19|     1102|      ATL|      SAV|    Boarding|   19:41|DL434661102ATLSAV|\n",
            "|          DL| 01/01/19|     1107|      ATL|      SEA|    Boarding|   21:06|DL434661107ATLSEA|\n",
            "|          DL| 01/01/19|     1109|      ATL|      IAD|    Boarding|    7:22|DL434661109ATLIAD|\n",
            "|          DL| 01/01/19|     1116|      ATL|      MDW|    Boarding|   14:20|DL434661116ATLMDW|\n",
            "|          DL| 01/01/19|     1119|      ATL|      MSY|    Boarding|   10:28|DL434661119ATLMSY|\n",
            "|          DL| 01/01/19|     1121|      ATL|      DEN|    Boarding|   15:18|DL434661121ATLDEN|\n",
            "|          DL| 01/01/19|     1127|      ATL|      IND|    Boarding|   10:26|DL434661127ATLIND|\n",
            "|          DL| 01/01/19|     1136|      ATL|      RSW|    Boarding|   13:55|DL434661136ATLRSW|\n",
            "|          DL| 01/01/19|     1152|      ATL|      CMH|    Boarding|   14:22|DL434661152ATLCMH|\n",
            "|          DL| 01/01/19|     1159|      ATL|      BUF|    Boarding|   13:57|DL434661159ATLBUF|\n",
            "|          DL| 01/01/19|     1163|      ATL|      BWI|    Boarding|   22:38|DL434661163ATLBWI|\n",
            "+------------+---------+---------+---------+---------+------------+--------+-----------------+\n",
            "only showing top 20 rows\n",
            "\n"
          ]
        }
      ]
    },
    {
      "cell_type": "markdown",
      "source": [
        "## USING SQL - TASK 1"
      ],
      "metadata": {
        "id": "oR4QAdlfa71S"
      }
    },
    {
      "cell_type": "code",
      "source": [
        "df.createOrReplaceTempView(\"flight\")"
      ],
      "metadata": {
        "id": "1GAQYegNYgod"
      },
      "execution_count": 15,
      "outputs": []
    },
    {
      "cell_type": "code",
      "source": [
        "spark.sql(\"\"\"SELECT * FROM ( \n",
        "  SELECT *, ROW_NUMBER() \n",
        "  OVER(PARTITION BY flightkey ORDER BY flight_dt desc,lastupdt DESC) AS row_number \n",
        "  FROM flight ) temp \n",
        "WHERE Row_number=1\"\"\").drop(\"row_number\").show()"
      ],
      "metadata": {
        "colab": {
          "base_uri": "https://localhost:8080/"
        },
        "id": "qywy7IpXYnog",
        "outputId": "4e464b79-f01e-4894-93f5-daa1d97ae68d"
      },
      "execution_count": 18,
      "outputs": [
        {
          "output_type": "stream",
          "name": "stdout",
          "text": [
            "+------------+---------+---------+---------+---------+------------+--------+-----------------+\n",
            "|Carrier Code|flight_dt|flightnum|orig_arpt|dest_arpt|flightstatus|lastupdt|        flightkey|\n",
            "+------------+---------+---------+---------+---------+------------+--------+-----------------+\n",
            "|          DL| 01/01/19|     1038|      ATL|      ROC|    Boarding|    9:28|DL434661038ATLROC|\n",
            "|          DL| 01/01/19|     1052|      ATL|      MKE|    Boarding|   14:05|DL434661052ATLMKE|\n",
            "|          DL| 01/01/19|     1053|      ATL|      PBI|    Boarding|   16:04|DL434661053ATLPBI|\n",
            "|          DL| 01/01/19|     1063|      ATL|      DTW|    Boarding|   11:01|DL434661063ATLDTW|\n",
            "|          DL| 01/01/19|     1072|      ATL|      PIT|    Boarding|   22:17|DL434661072ATLPIT|\n",
            "|          DL| 01/01/19|     1075|      ATL|      DTW|    Boarding|   12:50|DL434661075ATLDTW|\n",
            "|          DL| 01/01/19|     1088|      ATL|      OKC|    Boarding|    8:20|DL434661088ATLOKC|\n",
            "|          DL| 01/01/19|     1090|      ATL|      MCO|    Boarding|    9:52|DL434661090ATLMCO|\n",
            "|          DL| 01/01/19|     1091|      ATL|      CVG|    Boarding|   18:27|DL434661091ATLCVG|\n",
            "|          DL| 01/01/19|     1102|      ATL|      SAV|    Boarding|   19:41|DL434661102ATLSAV|\n",
            "|          DL| 01/01/19|     1107|      ATL|      SEA|    Boarding|   21:06|DL434661107ATLSEA|\n",
            "|          DL| 01/01/19|     1109|      ATL|      IAD|    Boarding|    7:22|DL434661109ATLIAD|\n",
            "|          DL| 01/01/19|     1116|      ATL|      MDW|    Boarding|   14:20|DL434661116ATLMDW|\n",
            "|          DL| 01/01/19|     1119|      ATL|      MSY|    Boarding|   10:28|DL434661119ATLMSY|\n",
            "|          DL| 01/01/19|     1121|      ATL|      DEN|    Boarding|   15:18|DL434661121ATLDEN|\n",
            "|          DL| 01/01/19|     1127|      ATL|      IND|    Boarding|   10:26|DL434661127ATLIND|\n",
            "|          DL| 01/01/19|     1136|      ATL|      RSW|    Boarding|   13:55|DL434661136ATLRSW|\n",
            "|          DL| 01/01/19|     1152|      ATL|      CMH|    Boarding|   14:22|DL434661152ATLCMH|\n",
            "|          DL| 01/01/19|     1159|      ATL|      BUF|    Boarding|   13:57|DL434661159ATLBUF|\n",
            "|          DL| 01/01/19|     1163|      ATL|      BWI|    Boarding|   22:38|DL434661163ATLBWI|\n",
            "+------------+---------+---------+---------+---------+------------+--------+-----------------+\n",
            "only showing top 20 rows\n",
            "\n"
          ]
        }
      ]
    }
  ]
}